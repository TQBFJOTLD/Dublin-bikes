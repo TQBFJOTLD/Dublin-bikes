{
 "cells": [
  {
   "cell_type": "code",
   "execution_count": 3,
   "id": "5d24dc61",
   "metadata": {},
   "outputs": [],
   "source": [
    "import flask\n",
    "from flask import Flask\n",
    "import requests\n",
    "import json"
   ]
  },
  {
   "cell_type": "code",
   "execution_count": 54,
   "id": "f6049c90",
   "metadata": {},
   "outputs": [
    {
     "name": "stdout",
     "output_type": "stream",
     "text": [
      "Best 3 pickup spots: ('HERBERT PLACE', 'SOUTH DOCK ROAD', 'WILTON TERRACE (PARK)')\n"
     ]
    }
   ],
   "source": [
    "def get_best_pickup_spot(latitude, longitude):\n",
    "    # Define the URL for the API endpoint\n",
    "    url = \"https://api.jcdecaux.com/vls/v1/stations?contract=dublin&apiKey=d630c0ca29bdecff74ec4e2480a0e48fb5f9326f\"\n",
    "\n",
    "    # Make a GET request to the API endpoint\n",
    "    response = requests.get(url)\n",
    "\n",
    "    # Check if the request was successful\n",
    "    if response.status_code == 200:\n",
    "        # Parse the response JSON data\n",
    "        data = json.loads(response.content.decode('utf-8'))\n",
    "        \n",
    "        # Get all stations\n",
    "        stations = data\n",
    "        \n",
    "        #Calculate the distance between user location and each station\n",
    "        for station in stations:\n",
    "            station_latitude = station['position']['lat']\n",
    "            station_longitude = station['position']['lng']\n",
    "            distance = ((station_latitude - latitude) ** 2 + (station_longitude - longitude) ** 2) ** 0.5\n",
    "            station['distance'] = distance\n",
    "        \n",
    "        # Sort stations by distance and available bikes\n",
    "        sorted_stations = sorted(stations, key=lambda s: (s['distance'], s['number']))\n",
    "        count=0\n",
    "        best_3=[]\n",
    "        # Return the closest station with available bikes\n",
    "        while count<3:\n",
    "            for station in sorted_stations:\n",
    "                if station['number'] > 0:\n",
    "                    best_3.append(station)\n",
    "                    count+=1\n",
    "                    \n",
    "        # If no station with available bikes found, return the closest station\n",
    "        return best_3[0]['name'],best_3[1]['name'],best_3[2]['name']\n",
    "    else:\n",
    "        # If request failed, return an error message\n",
    "        return \"Error: Could not retrieve bike network data\"\n",
    "\n",
    "# Example usage\n",
    "latitude = 20.2082\n",
    "longitude = 10.3738\n",
    "best_pickup_spot = get_best_pickup_spot(latitude, longitude)\n",
    "print(\"Best 3 pickup spots:\", best_pickup_spot)\n"
   ]
  },
  {
   "cell_type": "code",
   "execution_count": null,
   "id": "3347121a",
   "metadata": {},
   "outputs": [],
   "source": []
  }
 ],
 "metadata": {
  "kernelspec": {
   "display_name": "Python 3 (ipykernel)",
   "language": "python",
   "name": "python3"
  },
  "language_info": {
   "codemirror_mode": {
    "name": "ipython",
    "version": 3
   },
   "file_extension": ".py",
   "mimetype": "text/x-python",
   "name": "python",
   "nbconvert_exporter": "python",
   "pygments_lexer": "ipython3",
   "version": "3.9.16"
  }
 },
 "nbformat": 4,
 "nbformat_minor": 5
}
